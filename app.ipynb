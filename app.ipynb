{
 "cells": [
  {
   "cell_type": "code",
   "execution_count": 1,
   "metadata": {},
   "outputs": [
    {
     "name": "stdout",
     "output_type": "stream",
     "text": [
      "2025-01-28 16:14:24 - Created default config file at c:\\Users\\dabra\\OneDrive\\Documents\\AI Makerspace\\AIE5-DeployPythonicRAG\\.chainlit\\config.toml\n"
     ]
    }
   ],
   "source": [
    "import os\n",
    "from typing import List\n",
    "from chainlit.types import AskFileResponse\n",
    "from aimakerspace.text_utils import CharacterTextSplitter, TextFileLoader, PDFLoader\n",
    "from aimakerspace.openai_utils.prompts import (\n",
    "    UserRolePrompt,\n",
    "    SystemRolePrompt,\n",
    "    AssistantRolePrompt,\n",
    ")\n",
    "from aimakerspace.openai_utils.embedding import EmbeddingModel\n",
    "from aimakerspace.vectordatabase import VectorDatabase\n",
    "from aimakerspace.openai_utils.chatmodel import ChatOpenAI\n",
    "import chainlit as cl"
   ]
  },
  {
   "cell_type": "code",
   "execution_count": 2,
   "metadata": {},
   "outputs": [],
   "source": [
    "system_template = \"\"\"\\\n",
    "Use the following context to answer a users question. If you cannot find the answer in the context, say you don't know the answer.\"\"\"\n",
    "system_role_prompt = SystemRolePrompt(system_template)"
   ]
  },
  {
   "cell_type": "code",
   "execution_count": 3,
   "metadata": {},
   "outputs": [],
   "source": [
    "user_prompt_template = \"\"\"\\\n",
    "Context:\n",
    "{context}\n",
    "\n",
    "Question:\n",
    "{question}\n",
    "\"\"\"\n",
    "user_role_prompt = UserRolePrompt(user_prompt_template)"
   ]
  },
  {
   "cell_type": "code",
   "execution_count": 4,
   "metadata": {},
   "outputs": [],
   "source": [
    "class RetrievalAugmentedQAPipeline:\n",
    "    def __init__(self, llm: ChatOpenAI(), vector_db_retriever: VectorDatabase) -> None:\n",
    "        self.llm = llm\n",
    "        self.vector_db_retriever = vector_db_retriever\n",
    "\n",
    "    async def arun_pipeline(self, user_query: str):\n",
    "        context_list = self.vector_db_retriever.search_by_text(user_query, k=4)\n",
    "\n",
    "        context_prompt = \"\"\n",
    "        for context in context_list:\n",
    "            context_prompt += context[0] + \"\\n\"\n",
    "\n",
    "        formatted_system_prompt = system_role_prompt.create_message()\n",
    "\n",
    "        formatted_user_prompt = user_role_prompt.create_message(question=user_query, context=context_prompt)\n",
    "\n",
    "        async def generate_response():\n",
    "            async for chunk in self.llm.astream([formatted_system_prompt, formatted_user_prompt]):\n",
    "                yield chunk\n",
    "\n",
    "        return {\"response\": generate_response(), \"context\": context_list}\n",
    "\n",
    "text_splitter = CharacterTextSplitter()"
   ]
  },
  {
   "cell_type": "code",
   "execution_count": 5,
   "metadata": {},
   "outputs": [],
   "source": [
    "def process_file(file: AskFileResponse):\n",
    "    import tempfile\n",
    "    import shutil\n",
    "    \n",
    "    print(f\"Processing file: {file.name}\")\n",
    "    \n",
    "    # Create a temporary file with the correct extension\n",
    "    suffix = f\".{file.name.split('.')[-1]}\"\n",
    "    with tempfile.NamedTemporaryFile(delete=False, suffix=suffix) as temp_file:\n",
    "        # Copy the uploaded file content to the temporary file\n",
    "        shutil.copyfile(file.path, temp_file.name)\n",
    "        print(f\"Created temporary file at: {temp_file.name}\")\n",
    "        \n",
    "        # Create appropriate loader\n",
    "        if file.name.lower().endswith('.pdf'):\n",
    "            loader = PDFLoader(temp_file.name)\n",
    "        else:\n",
    "            loader = TextFileLoader(temp_file.name)\n",
    "            \n",
    "        try:\n",
    "            # Load and process the documents\n",
    "            documents = loader.load_documents()\n",
    "            texts = text_splitter.split_texts(documents)\n",
    "            return texts\n",
    "        finally:\n",
    "            # Clean up the temporary file\n",
    "            try:\n",
    "                os.unlink(temp_file.name)\n",
    "            except Exception as e:\n",
    "                print(f\"Error cleaning up temporary file: {e}\")"
   ]
  },
  {
   "cell_type": "code",
   "execution_count": 6,
   "metadata": {},
   "outputs": [],
   "source": [
    "@cl.on_chat_start\n",
    "async def on_chat_start():\n",
    "    files = None\n",
    "\n",
    "    # Wait for the user to upload a file\n",
    "    while files == None:\n",
    "        files = await cl.AskFileMessage(\n",
    "            content=\"Please upload a Text or PDF file to begin!\",\n",
    "            accept=[\"text/plain\", \"application/pdf\"],\n",
    "            max_size_mb=2,\n",
    "            timeout=180,\n",
    "        ).send()\n",
    "\n",
    "    file = files[0]\n",
    "\n",
    "    msg = cl.Message(\n",
    "        content=f\"Processing `{file.name}`...\"\n",
    "    )\n",
    "    await msg.send()\n",
    "\n",
    "    # load the file\n",
    "    texts = process_file(file)\n",
    "\n",
    "    print(f\"Processing {len(texts)} text chunks\")\n",
    "\n",
    "    # Create a dict vector store\n",
    "    vector_db = VectorDatabase()\n",
    "    vector_db = await vector_db.abuild_from_list(texts)\n",
    "    \n",
    "    chat_openai = ChatOpenAI()\n",
    "\n",
    "    # Create a chain\n",
    "    retrieval_augmented_qa_pipeline = RetrievalAugmentedQAPipeline(\n",
    "        vector_db_retriever=vector_db,\n",
    "        llm=chat_openai\n",
    "    )\n",
    "    \n",
    "    # Let the user know that the system is ready\n",
    "    msg.content = f\"Processing `{file.name}` done. You can now ask questions!\"\n",
    "    await msg.update()\n",
    "\n",
    "    cl.user_session.set(\"chain\", retrieval_augmented_qa_pipeline)\n",
    "\n",
    "\n",
    "@cl.on_message\n",
    "async def main(message):\n",
    "    chain = cl.user_session.get(\"chain\")\n",
    "\n",
    "    msg = cl.Message(content=\"\")\n",
    "    result = await chain.arun_pipeline(message.content)\n",
    "\n",
    "    async for stream_resp in result[\"response\"]:\n",
    "        await msg.stream_token(stream_resp)\n",
    "\n",
    "    await msg.send()"
   ]
  }
 ],
 "metadata": {
  "kernelspec": {
   "display_name": "Python 3",
   "language": "python",
   "name": "python3"
  },
  "language_info": {
   "codemirror_mode": {
    "name": "ipython",
    "version": 3
   },
   "file_extension": ".py",
   "mimetype": "text/x-python",
   "name": "python",
   "nbconvert_exporter": "python",
   "pygments_lexer": "ipython3",
   "version": "3.9.0"
  }
 },
 "nbformat": 4,
 "nbformat_minor": 2
}
